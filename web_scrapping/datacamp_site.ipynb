{
 "cells": [
  {
   "cell_type": "code",
   "execution_count": 74,
   "outputs": [],
   "source": [
    "# conda install -c anaconda openpyxl"
   ],
   "metadata": {
    "collapsed": false,
    "pycharm": {
     "name": "#%%\n"
    }
   }
  },
  {
   "cell_type": "code",
   "execution_count": 1,
   "outputs": [],
   "source": [
    "import requests"
   ],
   "metadata": {
    "collapsed": false,
    "pycharm": {
     "name": "#%%\n"
    }
   }
  },
  {
   "cell_type": "code",
   "execution_count": 2,
   "outputs": [],
   "source": [
    "from scrapy import Selector"
   ],
   "metadata": {
    "collapsed": false,
    "pycharm": {
     "name": "#%%\n"
    }
   }
  },
  {
   "cell_type": "code",
   "execution_count": 3,
   "outputs": [],
   "source": [
    "url = 'https://www.datacamp.com/courses/all'"
   ],
   "metadata": {
    "collapsed": false,
    "pycharm": {
     "name": "#%%\n"
    }
   }
  },
  {
   "cell_type": "code",
   "execution_count": 4,
   "outputs": [],
   "source": [
    "response = requests.get(url)"
   ],
   "metadata": {
    "collapsed": false,
    "pycharm": {
     "name": "#%%\n"
    }
   }
  },
  {
   "cell_type": "code",
   "execution_count": 5,
   "outputs": [
    {
     "data": {
      "text/plain": "b'<!DOCTYPE HTML>\\n<html lang=\"en-US\">\\n<head>\\n  <meta charset=\"UTF-8\" />\\n  <meta http-equiv=\"Content-Type\" content=\"text/html; charset=UTF-8\" />\\n  <meta http-equiv=\"X-UA-Compatible\" content=\"IE=Edge,chrome=1\" />\\n  <meta name=\"robots\" content=\"noindex, nofollow\" />\\n  <meta name=\"viewport\" content=\"width=device-width,initial-scale=1\" />\\n  <title>Just a moment...</title>\\n  <style type=\"text/css\">\\n    html, body {width: 100%; height: 100%; margin: 0; padding: 0;}\\n    body {background-color: #ffffff; color: #000000; font-family:-apple-system, system-ui, BlinkMacSystemFont, \"Segoe UI\", Roboto, Oxygen, Ubuntu, \"Helvetica Neue\",Arial, sans-serif; font-size: 16px; line-height: 1.7em;-webkit-font-smoothing: antialiased;}\\n    h1 { text-align: center; font-weight:700; margin: 16px 0; font-size: 32px; color:#000000; line-height: 1.25;}\\n    p {font-size: 20px; font-weight: 400; margin: 8px 0;}\\n    p, .attribution, {text-align: center;}\\n    #spinner {margin: 0 auto 30px auto; display: block;}\\n    .attribution {margin-top: 32px;}\\n    @keyframes fader     { 0% {opacity: 0.2;} 50% {opacity: 1.0;} 100% {opacity: 0.2;} }\\n    @-webkit-keyframes fader { 0% {opacity: 0.2;} 50% {opacity: 1.0;} 100% {opacity: 0.2;} }\\n    #cf-bubbles > .bubbles { animation: fader 1.6s infinite;}\\n    #cf-bubbles > .bubbles:nth-child(2) { animation-delay: .2s;}\\n    #cf-bubbles > .bubbles:nth-child(3) { animation-delay: .4s;}\\n    .bubbles { background-color: #f58220; width:20px; height: 20px; margin:2px; border-radius:100%; display:inline-block; }\\n    a { color: #2c7cb0; text-decoration: none; -moz-transition: color 0.15s ease; -o-transition: color 0.15s ease; -webkit-transition: color 0.15s ease; transition: color 0.15s ease; }\\n    a:hover{color: #f4a15d}\\n    .attribution{font-size: 16px; line-height: 1.5;}\\n    .ray_id{display: block; margin-top: 8px;}\\n    #cf-wrapper #challenge-form { padding-top:25px; padding-bottom:25px; }\\n    #cf-hcaptcha-container { text-align:center;}\\n    #cf-hcaptcha-container iframe { display: inline-block;}\\n  </style>\\n\\n      <meta http-equiv=\"refresh\" content=\"35\">\\n  <script type=\"text/javascript\">\\n    //<![CDATA[\\n    (function(){\\n      \\n      window._cf_chl_opt={\\n        cvId: \"2\",\\n        cType: \"non-interactive\",\\n        cNounce: \"49434\",\\n        cRay: \"6dbfad74d8223a99\",\\n        cHash: \"4b44b0f2c865b93\",\\n        cPMDTk: \"PY5DdL5bDhfqX7QLDdT0tfnqpCppwg6w9xFEZkbIAjo-1644604531-0-gaNycGzNBz0\",\\n        cUPMDTk: \"\\\\/courses\\\\/all?__cf_chl_tk=PY5DdL5bDhfqX7QLDdT0tfnqpCppwg6w9xFEZkbIAjo-1644604531-0-gaNycGzNBz0\",\\n        cFPWv: \"b\",\\n        cTTimeMs: \"1000\",\\n        cRq: {\\n          ru: \"aHR0cHM6Ly93d3cuZGF0YWNhbXAuY29tL2NvdXJzZXMvYWxs\",\\n          ra: \"cHl0aG9uLXJlcXVlc3RzLzIuMjcuMQ==\",\\n          rm: \"R0VU\",\\n          d: \"2+g7xx8EmhffR6Px3Nrr1Qh0jihDpu+ukrNpWL0n53t2qQrgYzLjDZ3CSM10HsdYvpZ5ztvqOxtkYvJbmqW19b0gLQNhR5YjlWVtqEK410d66EBSanfOoVhafgOPnCN1Zgn1pfxl2Snr9qECtPrQRe7Q2yw7lHQk/xpfRvxk+argA58O+StWZamOcGhVeHbKrJPtxgeThpabIdqO8l3y1mgafZdriRf7KyC5prIykB/kSXRv0pbvgeecgG40iYsjRY0jZ60iRM3HmmGzbLRdIa909GvBDkBrQHf/VSv7KYi+4dy282jL+ES4qpMWAzP2UP+v15wNsyge+pfSiaCvht/5961qX31WnBEIGOd9ZALaM8VCWU+qWc9A75t33B9MVjXhQRlNPwp/IxOltHId9RbhAoX37XGJWpv1+EITkifPOVkhzkM8QFgmSsa24gHaHvMesdU3Ld5wXu7dVIDofoqNIT78EpQbBDUBKfWT3bqc1zD+vrbKCR8abzmCYxHMqK7z/OSeITTOWm2ANME35iNMuwfc4hN4ucd8Ql/1UOTaI9U7FMxxrNp6YACZvYRS\",\\n          t: \"MTY0NDYwNDUzMS45OTMwMDA=\",\\n          m: \"qiD5HA7SWs4IZZqB5b5q4SR31egXhdg73YSpYSjWTek=\",\\n          i1: \"0K8qWTpCUbQM031h08VtcQ==\",\\n          i2: \"gw1lJEJ1gjjUu+40MWqcyw==\",\\n          zh: \"hzfiqo9hugT9sHeHQ1zy81NCL/S0295H0+GuRnkSV9o=\",\\n          uh: \"JNy/u1JaDY8l68+s834y37Qd6UIzTJLBzCkJPX4t/ps=\",\\n          hh: \"rAZnIHiyrNuZ60h9aAZNML8izDilqmOSNuCtac1WqPs=\",\\n        }\\n      }\\n      window._cf_chl_enter = function(){window._cf_chl_opt.p=1};\\n      \\n    })();\\n    //]]>\\n  </script>\\n  \\n\\n</head>\\n<body>\\n  <table width=\"100%\" height=\"100%\" cellpadding=\"20\">\\n    <tr>\\n      <td align=\"center\" valign=\"middle\">\\n          <div class=\"cf-browser-verification cf-im-under-attack\">\\n  <noscript>\\n    <h1 data-translate=\"turn_on_js\" style=\"color:#bd2426;\">Please turn JavaScript on and reload the page.</h1>\\n  </noscript>\\n  <div id=\"cf-content\" style=\"display:none\">\\n    \\n    <div id=\"cf-bubbles\">\\n      <div class=\"bubbles\"></div>\\n      <div class=\"bubbles\"></div>\\n      <div class=\"bubbles\"></div>\\n    </div>\\n    <h1><span data-translate=\"checking_browser\">Checking your browser before accessing</span> www.datacamp.com.</h1>\\n    \\n    <div id=\"no-cookie-warning\" class=\"cookie-warning\" data-translate=\"turn_on_cookies\" style=\"display:none\">\\n      <p data-translate=\"turn_on_cookies\" style=\"color:#bd2426;\">Please enable Cookies and reload the page.</p>\\n    </div>\\n    <p data-translate=\"process_is_automatic\">This process is automatic. Your browser will redirect to your requested content shortly.</p>\\n    <p data-translate=\"allow_5_secs\" id=\"cf-spinner-allow-5-secs\" >Please allow up to 5 seconds&hellip;</p>\\n    <p data-translate=\"redirecting\" id=\"cf-spinner-redirecting\" style=\"display:none\">Redirecting&hellip;</p>\\n  </div>\\n   \\n  <form class=\"challenge-form\" id=\"challenge-form\" action=\"/courses/all?__cf_chl_f_tk=PY5DdL5bDhfqX7QLDdT0tfnqpCppwg6w9xFEZkbIAjo-1644604531-0-gaNycGzNBz0\" method=\"POST\" enctype=\"application/x-www-form-urlencoded\">\\n    <input type=\"hidden\" name=\"md\" value=\"0AgHpreGMeP2i7_J4wqDoDk1mtPz4Sgmaa3.Kv7KP0g-1644604531-0-AZo5yDAsHXn9iSw7yyiQE3c-xRP_bxlMyL6egt-5X2dRO4i85hgaSeBuGLiW_VmE53lyuZOPgQmCStN3XXIyJIykPRGg51bsUkRmmBoxe-k0dMXnVkqwhPoSJrvfaDorewWDHGMr7YHgpZqC3IMBFO9Zrn__gakVRXyD8BIiizhsLD5sHAZIXtgxts1THk1uJKQm4NLweGDwHeRNs5dshZTVR6m06EqIb8aiH8n7JOil9iXS8XK5SBWr2_PV-L5TRmukongtVM7jVGL5mPCrXoV7WUNHd8muwO55fECuhF8cqzH7yMFFOpb87peLKZ4UyRh8SRN7Br-WhaEFaCw14LwWTs-9nml2OrK2Ev2bM4uGaDw7EjoylJZC999Za1kFId_Dw-veN22Q30rdfCE-8umaXBvsVj5WsGPGZbUuElNsQPuotPKrZIgnGP84EzkXCRuKISf3XDNFR8y8TkBuLEIZUaLxA_GsK6iwejm7JDdSeVhENLbaY1OKIKi2nWefji4bA6Urr6DqxC1WVfri2o_ca0yPD8Z94PqxD7CSUuA9dh2CUKd9xd8sPDX3WERW2tGkklK5xngMYmyKuCl8t9drsluNZuI4YkTWNhMvbqijEA3ZJQJ-ylgtEcPLUYXACdbuFUzn9TwogX1NWnv62_E\" />\\n    <input type=\"hidden\" name=\"r\" value=\"zlGuie1xFZGVIPxrS_E5xDNpytKh_tIjDz.JuA1jqZM-1644604531-0-AVfGWvFyp+jdUmCAoA24TqTkxryaaydHMWQWgOvxjHoof856U5KD6s0KLbZrKTR187ui9f4H/zsLmmHVesjgKH+WCpJ2Z/BglwCSsM/M21nnZpcDEQU7t8blILfgAjHhh2JNBcVkrdvZfswb4JXvSuiM/z4CbWHAxtLap2pY3pj73ogcomXF05Q0X7kTBrauC4+0VTJ5qYBRX+oKZRisExv78RvYuETrrwesnQCqwLicJhGOZrtxSvELefZSNKwqO6f50J5IdXWQFu8Rnuwzi2+4T6A+bh1c/UwCjGG4BBWafnXOQ/dRLgufg9wr9SkvjwYbzFwTjT7q/Vj9ao0e0PEDzgjtVordOxu48zSYtQybRP1XhbGhXmWOPtZOLsgJgrtllch67L1iH9+u3bCnvcSmm/Ft8niMdOXPXBlzMFG87A4WJ5uRzLm4r34ctqY8OcVuhySKv9BMmbcSqnxSTI5XK+vXj+EMBP8ni28pqQATYvyZpgBYm5Ut//eJCFxDqrpZEum2Kx1uHQBToGUPs6y3DV1JreyT7+GMbGENiXtHOlvPa+31q5lqBjeBbSywJV+TPUALw/QFPJlkYHcG0gySzetnrhdbvi65tI/4crWlC974p1Wiy5OvTAOxt5kZMwRLYSlplC9Z3QQ8lnCD9xGJdP5bBnbJSukyNPiYloUN3WJs3Es/+rYEFGpVSmedvc+X6EoAGYQ/qJfgFepyV73/625CH7/IAt1MBfCJHifUPQ6zDgEZw/EO7DPM1kD93jMrdBIoBC3Iev+DrtYCendTQdg+qcfPMXoGBU4aCcV/Z+XtcZbO7uiN6f2AbIUCiX96LL2RKHOKxjMCi3JCFjlHFU40hBTunjbRj46ERbx/qFP9jgxw2ZuyKwfqLzZW3n1UunjA35xgzczqPTUlQHuvBprEGZ9Czrhgowx1FrOhNhGu7cQI8HMpKRIg7Zc5ytsKueWpcu1EJYRwxJr1NYiIb3v2AJXb4U2Cp7YR+6bfw9VesNdLDSau+nFzOdC5+2a3W3h3Ijfs3ZxZeEPfuOn0xu/aerkJwb3lCmXxdW2XFKvdDQP52/JQuloxHjYLkG6hA+QA/SAnfa02pEWWr86S7vnzl2rpSP9UIHNF7gLvFwjEU/jO8z1jPHzVSekUh6ps7V3W2gbO7MLxhTyuLJXKIarMKBr5TRF2Zc18RKWAG80/xcqKif/ZkOFrMB3jFsBz8kfPpNX4Pe44+rUjzaBpr+pRqqvbRCbn7a759yP6MU0rZYXbRY5E9zNLugjAm+CndS+qH14xpiLualUJLHeLl9ZwvfRd43rLFVo/t2Pa89tRJ7nrwl5LNpECKJYvJ9sDmwBtGe/OE8+28mKT5Y/fB06zVV81AORe0M7f9UEFl54HjHWdbiy37wT77dm44jdgATsCUvGVpjL3nSPc1GJ3jWU3qIl50EAS4M494Uu1RtwIqcA/0gca0XQwKw4lMEwScXNW6oVFpIJRQ64iPcx8itC25wEJ4FUmqQ6NdPuZ4GZ0Dhd7erc8O13CzZ+Hw9Z4a8UEywYFG1nvUjdd3cd7TXNc/tYoQyp+6SuuuvVFQ/CBmayNF8lRE4LwXBdgbYNPViBrNiodcPNryz2Vy8Cq3bE3j44aNdPSbbScIMyjNxNjhbLGdKC0az9H5zxFMGwva0jKRLcjWhq7CQVKBxzMqtf8o9cBQLYYao3Jea56LA/Quj2f4K3AY+pIYt0a1nYrDkyHOAHxwDDcTibz8En3VSxghZPLXtdFqXPrhpYMzb8jYZXZP/gMzm1gwPHIqQ==\"/>\\n    <input type=\"hidden\" value=\"1442a724a4b6dd4a12184fd848ea8288\" id=\"jschl-vc\" name=\"jschl_vc\"/>\\n    <!-- <input type=\"hidden\" value=\"\" id=\"jschl-vc\" name=\"jschl_vc\"/> -->\\n    <input type=\"hidden\" name=\"pass\" value=\"1644604532.993-+1+rocflZ6\"/>\\n    <input type=\"hidden\" id=\"jschl-answer\" name=\"jschl_answer\"/>\\n  </form>\\n     \\n    <script type=\"text/javascript\">\\n      //<![CDATA[\\n      (function(){\\n          var a = document.getElementById(\\'cf-content\\');\\n          a.style.display = \\'block\\';\\n          var isIE = /(MSIE|Trident\\\\/|Edge\\\\/)/i.test(window.navigator.userAgent);\\n          var trkjs = isIE ? new Image() : document.createElement(\\'img\\');\\n          trkjs.setAttribute(\"src\", \"/cdn-cgi/images/trace/jschal/js/transparent.gif?ray=6dbfad74d8223a99\");\\n          trkjs.id = \"trk_jschal_js\";\\n          trkjs.setAttribute(\"alt\", \"\");\\n          document.body.appendChild(trkjs);\\n          var cpo=document.createElement(\\'script\\');\\n          cpo.type=\\'text/javascript\\';\\n          cpo.src=\"/cdn-cgi/challenge-platform/h/b/orchestrate/jsch/v1?ray=6dbfad74d8223a99\";\\n          \\n          window._cf_chl_opt.cOgUQuery = location.search === \\'\\' && location.href.indexOf(\\'?\\') !== -1 ? \\'?\\' : location.search;\\n          window._cf_chl_opt.cOgUHash = location.hash === \\'\\' && location.href.indexOf(\\'#\\') !== -1 ? \\'#\\' : location.hash;\\n          if (window._cf_chl_opt.cUPMDTk && window.history && window.history.replaceState) {\\n            var ogU = location.pathname + window._cf_chl_opt.cOgUQuery + window._cf_chl_opt.cOgUHash;\\n            history.replaceState(null, null, \"\\\\/courses\\\\/all?__cf_chl_rt_tk=PY5DdL5bDhfqX7QLDdT0tfnqpCppwg6w9xFEZkbIAjo-1644604531-0-gaNycGzNBz0\" + window._cf_chl_opt.cOgUHash);\\n            cpo.onload = function() {\\n              history.replaceState(null, null, ogU);\\n            };\\n          }\\n          \\n          document.getElementsByTagName(\\'head\\')[0].appendChild(cpo);\\n        }());\\n      //]]>\\n    </script>\\n  \\n\\n  \\n  <div id=\"trk_jschal_nojs\" style=\"background-image:url(\\'/cdn-cgi/images/trace/jschal/nojs/transparent.gif?ray=6dbfad74d8223a99\\')\"> </div>\\n</div>\\n\\n          \\n          <div class=\"attribution\">\\n            DDoS protection by <a rel=\"noopener noreferrer\" href=\"https://www.cloudflare.com/5xx-error-landing/\" target=\"_blank\">Cloudflare</a>\\n            <br />\\n            <span class=\"ray_id\">Ray ID: <code>6dbfad74d8223a99</code></span>\\n          </div>\\n      </td>\\n     \\n    </tr>\\n  </table>\\n</body>\\n</html>\\n'"
     },
     "execution_count": 5,
     "metadata": {},
     "output_type": "execute_result"
    }
   ],
   "source": [
    "html = response.content\n",
    "response = Selector( text=html ).response\n",
    "response.body"
   ],
   "metadata": {
    "collapsed": false,
    "pycharm": {
     "name": "#%%\n"
    }
   }
  },
  {
   "cell_type": "code",
   "execution_count": 6,
   "outputs": [],
   "source": [
    "links = response.css('div.course-card > a::attr(href)').extract()"
   ],
   "metadata": {
    "collapsed": false,
    "pycharm": {
     "name": "#%%\n"
    }
   }
  },
  {
   "cell_type": "code",
   "execution_count": 7,
   "outputs": [],
   "source": [
    "soso = response.css('div.course-card')"
   ],
   "metadata": {
    "collapsed": false,
    "pycharm": {
     "name": "#%%\n"
    }
   }
  },
  {
   "cell_type": "code",
   "execution_count": 8,
   "outputs": [
    {
     "data": {
      "text/plain": "[]"
     },
     "execution_count": 8,
     "metadata": {},
     "output_type": "execute_result"
    }
   ],
   "source": [
    "soso"
   ],
   "metadata": {
    "collapsed": false,
    "pycharm": {
     "name": "#%%\n"
    }
   }
  },
  {
   "cell_type": "code",
   "execution_count": 9,
   "outputs": [
    {
     "data": {
      "text/plain": "[]"
     },
     "execution_count": 9,
     "metadata": {},
     "output_type": "execute_result"
    }
   ],
   "source": [
    "links"
   ],
   "metadata": {
    "collapsed": false,
    "pycharm": {
     "name": "#%%\n"
    }
   }
  },
  {
   "cell_type": "code",
   "execution_count": null,
   "outputs": [],
   "source": [],
   "metadata": {
    "collapsed": false,
    "pycharm": {
     "name": "#%%\n"
    }
   }
  }
 ],
 "metadata": {
  "kernelspec": {
   "display_name": "Python 3",
   "language": "python",
   "name": "python3"
  },
  "language_info": {
   "codemirror_mode": {
    "name": "ipython",
    "version": 2
   },
   "file_extension": ".py",
   "mimetype": "text/x-python",
   "name": "python",
   "nbconvert_exporter": "python",
   "pygments_lexer": "ipython2",
   "version": "2.7.6"
  }
 },
 "nbformat": 4,
 "nbformat_minor": 0
}