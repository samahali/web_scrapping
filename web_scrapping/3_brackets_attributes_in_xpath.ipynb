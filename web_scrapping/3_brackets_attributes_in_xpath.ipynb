{
 "cells": [
  {
   "cell_type": "code",
   "execution_count": 82,
   "metadata": {
    "collapsed": true
   },
   "outputs": [],
   "source": [
    "from scrapy import Selector\n",
    "from scrapy.http import Response\n",
    "import pandas as pd\n",
    "import requests"
   ]
  },
  {
   "cell_type": "code",
   "execution_count": 83,
   "outputs": [],
   "source": [
    "html = '''\n",
    "<html>\n",
    "    <body>\n",
    "        <div id='uid'>\n",
    "            <p class='class-1'>Hello World!</p>\n",
    "            <p class='class-2'>Enjoy DataCamp!</p>\n",
    "        </div>\n",
    "        <p class='class-1 class-2'>\n",
    "        Thanks for Watching!\n",
    "        </p>\n",
    "    </body>\n",
    "</html>\n",
    "'''"
   ],
   "metadata": {
    "collapsed": false,
    "pycharm": {
     "name": "#%%\n"
    }
   }
  },
  {
   "cell_type": "code",
   "execution_count": 84,
   "outputs": [],
   "source": [
    "sel = Selector(text=html)"
   ],
   "metadata": {
    "collapsed": false,
    "pycharm": {
     "name": "#%%\n"
    }
   }
  },
  {
   "cell_type": "code",
   "execution_count": 85,
   "outputs": [
    {
     "data": {
      "text/plain": "[<Selector xpath='//p[@class=\"class-1\"]' data='<p class=\"class-1\">Hello World!</p>\\n ...'>]"
     },
     "execution_count": 85,
     "metadata": {},
     "output_type": "execute_result"
    }
   ],
   "source": [
    "# here we will get the tag p whose class is class-1 only without other classes\n",
    "sel.xpath('//p[@class=\"class-1\"]')"
   ],
   "metadata": {
    "collapsed": false,
    "pycharm": {
     "name": "#%%\n"
    }
   }
  },
  {
   "cell_type": "code",
   "execution_count": 86,
   "outputs": [
    {
     "data": {
      "text/plain": "[<Selector xpath='//*[@id=\"uid\"]' data='<div id=\"uid\">\\n            <p class=\"...'>]"
     },
     "execution_count": 86,
     "metadata": {},
     "output_type": "execute_result"
    }
   ],
   "source": [
    "# here we will get the tag whose id is uid only\n",
    "sel.xpath('//*[@id=\"uid\"]')"
   ],
   "metadata": {
    "collapsed": false,
    "pycharm": {
     "name": "#%%\n"
    }
   }
  },
  {
   "cell_type": "code",
   "source": [
    "sel.xpath('//div[@id=\"uid\"]/p[2]')"
   ],
   "metadata": {
    "collapsed": false,
    "pycharm": {
     "name": "#%%\n"
    }
   },
   "execution_count": 87,
   "outputs": [
    {
     "data": {
      "text/plain": "[<Selector xpath='//div[@id=\"uid\"]/p[2]' data='<p class=\"class-2\">Enjoy DataCamp!</p...'>]"
     },
     "execution_count": 87,
     "metadata": {},
     "output_type": "execute_result"
    }
   ]
  },
  {
   "cell_type": "markdown",
   "source": [
    "# Content with Contains will return all tags has the same attribute in our example bellow we search for"
   ],
   "metadata": {
    "collapsed": false,
    "pycharm": {
     "name": "#%% md\n"
    }
   }
  },
  {
   "cell_type": "code",
   "source": [
    "# all tags contains class-1\n",
    "sel.xpath('//*[contains(@class,\"class-1\")]')"
   ],
   "metadata": {
    "collapsed": false,
    "pycharm": {
     "name": "#%%\n"
    }
   },
   "execution_count": 88,
   "outputs": [
    {
     "data": {
      "text/plain": "[<Selector xpath='//*[contains(@class,\"class-1\")]' data='<p class=\"class-1\">Hello World!</p>\\n ...'>,\n <Selector xpath='//*[contains(@class,\"class-1\")]' data='<p class=\"class-1 class-2\">\\n        T...'>]"
     },
     "execution_count": 88,
     "metadata": {},
     "output_type": "execute_result"
    }
   ]
  },
  {
   "cell_type": "markdown",
   "source": [
    "# here we fetch only all tags has class-1 only without any classes"
   ],
   "metadata": {
    "collapsed": false,
    "pycharm": {
     "name": "#%% md\n"
    }
   }
  },
  {
   "cell_type": "code",
   "execution_count": 89,
   "outputs": [
    {
     "data": {
      "text/plain": "[<Selector xpath='//*[@class=\"class-1\"]' data='<p class=\"class-1\">Hello World!</p>\\n ...'>]"
     },
     "execution_count": 89,
     "metadata": {},
     "output_type": "execute_result"
    }
   ],
   "source": [
    "sel.xpath('//*[@class=\"class-1\"]')"
   ],
   "metadata": {
    "collapsed": false,
    "pycharm": {
     "name": "#%%\n"
    }
   }
  },
  {
   "cell_type": "markdown",
   "source": [
    "# here return second tag p if it has an attribute class only"
   ],
   "metadata": {
    "collapsed": false,
    "pycharm": {
     "name": "#%% md\n"
    }
   }
  },
  {
   "cell_type": "code",
   "source": [
    "sel.xpath('/html/body/div/p[2]/@class')"
   ],
   "metadata": {
    "collapsed": false,
    "pycharm": {
     "name": "#%%\n"
    }
   },
   "execution_count": 90,
   "outputs": [
    {
     "data": {
      "text/plain": "[<Selector xpath='/html/body/div/p[2]/@class' data='class-2'>]"
     },
     "execution_count": 90,
     "metadata": {},
     "output_type": "execute_result"
    }
   ]
  },
  {
   "cell_type": "markdown",
   "source": [
    "# another example return second p if it has an attribute id it will return [] because there is no p with id attribute"
   ],
   "metadata": {
    "collapsed": false,
    "pycharm": {
     "name": "#%% md\n"
    }
   }
  },
  {
   "cell_type": "code",
   "source": [
    "sel.xpath('/html/body/div/p[2]/@id')"
   ],
   "metadata": {
    "collapsed": false,
    "pycharm": {
     "name": "#%%\n"
    }
   },
   "execution_count": 91,
   "outputs": [
    {
     "data": {
      "text/plain": "[]"
     },
     "execution_count": 91,
     "metadata": {},
     "output_type": "execute_result"
    }
   ]
  },
  {
   "cell_type": "markdown",
   "source": [
    "### Extracting Data from a SelectorList"
   ],
   "metadata": {
    "collapsed": false,
    "pycharm": {
     "name": "#%% md\n"
    }
   }
  },
  {
   "cell_type": "markdown",
   "source": [
    "### Use the extract() method"
   ],
   "metadata": {
    "collapsed": false,
    "pycharm": {
     "name": "#%% md\n"
    }
   }
  },
  {
   "cell_type": "code",
   "execution_count": 92,
   "outputs": [
    {
     "data": {
      "text/plain": "['<p class=\"class-1\">Hello World!</p>\\n            <p class=\"class-2\">Enjoy DataCamp!</p>\\n        </div>\\n        <p class=\"class-1 class-2\">\\n        Thanks for Watching!\\n        </p>\\n    </body>\\n</html>\\n',\n '<p class=\"class-2\">Enjoy DataCamp!</p>\\n        </div>\\n        <p class=\"class-1 class-2\">\\n        Thanks for Watching!\\n        </p>\\n    </body>\\n</html>\\n',\n '<p class=\"class-1 class-2\">\\n        Thanks for Watching!\\n        </p>\\n    </body>\\n</html>\\n']"
     },
     "execution_count": 92,
     "metadata": {},
     "output_type": "execute_result"
    }
   ],
   "source": [
    "sel.xpath(\"//p\").extract()"
   ],
   "metadata": {
    "collapsed": false,
    "pycharm": {
     "name": "#%%\n"
    }
   }
  },
  {
   "cell_type": "markdown",
   "source": [
    "### We can use extract_first() to get the rst element of the list"
   ],
   "metadata": {
    "collapsed": false,
    "pycharm": {
     "name": "#%% md\n"
    }
   }
  },
  {
   "cell_type": "code",
   "execution_count": 93,
   "outputs": [
    {
     "data": {
      "text/plain": "'<p class=\"class-1\">Hello World!</p>\\n            <p class=\"class-2\">Enjoy DataCamp!</p>\\n        </div>\\n        <p class=\"class-1 class-2\">\\n        Thanks for Watching!\\n        </p>\\n    </body>\\n</html>\\n'"
     },
     "execution_count": 93,
     "metadata": {},
     "output_type": "execute_result"
    }
   ],
   "source": [
    "sel.xpath(\"//p\").extract_first()"
   ],
   "metadata": {
    "collapsed": false,
    "pycharm": {
     "name": "#%%\n"
    }
   }
  },
  {
   "cell_type": "code",
   "execution_count": 94,
   "outputs": [
    {
     "data": {
      "text/plain": "'<p class=\"class-1\">Hello World!</p>\\n            <p class=\"class-2\">Enjoy DataCamp!</p>\\n        </div>\\n        <p class=\"class-1 class-2\">\\n        Thanks for Watching!\\n        </p>\\n    </body>\\n</html>\\n'"
     },
     "execution_count": 94,
     "metadata": {},
     "output_type": "execute_result"
    }
   ],
   "source": [
    "sel.xpath(\"//p\").extract_first()"
   ],
   "metadata": {
    "collapsed": false,
    "pycharm": {
     "name": "#%%\n"
    }
   }
  },
  {
   "cell_type": "markdown",
   "source": [
    "### Using requests to scrap content of url"
   ],
   "metadata": {
    "collapsed": false,
    "pycharm": {
     "name": "#%% md\n"
    }
   }
  },
  {
   "cell_type": "code",
   "execution_count": 95,
   "outputs": [],
   "source": [
    "url = 'https://en.wikipedia.org/wiki/Web_scraping'\n",
    "html = requests.get( url ).content\n",
    "sel = Selector( text = html )"
   ],
   "metadata": {
    "collapsed": false,
    "pycharm": {
     "name": "#%%\n"
    }
   }
  },
  {
   "cell_type": "code",
   "execution_count": 96,
   "outputs": [],
   "source": [
    "# url = 'https://en.wikipedia.org/wiki/Web_scraping'\n",
    "# response = sel.response\n",
    "# response.follow(url=url)"
   ],
   "metadata": {
    "collapsed": false,
    "pycharm": {
     "name": "#%%\n"
    }
   }
  },
  {
   "cell_type": "code",
   "execution_count": 97,
   "outputs": [],
   "source": [
    "# get the See also section content\n",
    "see_also_div =sel.xpath('//div[@class=\"div-col\"]')"
   ],
   "metadata": {
    "collapsed": false,
    "pycharm": {
     "name": "#%%\n"
    }
   }
  },
  {
   "cell_type": "code",
   "execution_count": 98,
   "outputs": [],
   "source": [
    "# get the text of all anchore tag in See also section\n",
    "title = see_also_div.css('a::text').extract()"
   ],
   "metadata": {
    "collapsed": false,
    "pycharm": {
     "name": "#%%\n"
    }
   }
  },
  {
   "cell_type": "code",
   "execution_count": 99,
   "outputs": [],
   "source": [
    "# get the url of all anchore tag in See also section\n",
    "links = see_also_div.css('a::attr(href)').extract()"
   ],
   "metadata": {
    "collapsed": false,
    "pycharm": {
     "name": "#%%\n"
    }
   }
  },
  {
   "cell_type": "code",
   "execution_count": 100,
   "outputs": [],
   "source": [
    "# concat the https://en.wikipedia.org with all url in href attribute inside anchore tag in See also section\n",
    "url = list(map(lambda x: f'https://en.wikipedia.org{x}', links))"
   ],
   "metadata": {
    "collapsed": false,
    "pycharm": {
     "name": "#%%\n"
    }
   }
  },
  {
   "cell_type": "code",
   "execution_count": 101,
   "outputs": [],
   "source": [
    "# save data in excel csv/sheet\n",
    "df = pd.DataFrame({'Scrapping Topic':title,'Wikipedia Scrapping Topic link':url})\n",
    "df.to_csv('Scrapping.csv', index=False, encoding='utf-8')\n",
    "df.to_excel('Scrapping.xlsx', index=False, encoding='utf-8')"
   ],
   "metadata": {
    "collapsed": false,
    "pycharm": {
     "name": "#%%\n"
    }
   }
  },
  {
   "cell_type": "code",
   "execution_count": 101,
   "outputs": [],
   "source": [],
   "metadata": {
    "collapsed": false,
    "pycharm": {
     "name": "#%%\n"
    }
   }
  }
 ],
 "metadata": {
  "kernelspec": {
   "display_name": "Python 3",
   "language": "python",
   "name": "python3"
  },
  "language_info": {
   "codemirror_mode": {
    "name": "ipython",
    "version": 2
   },
   "file_extension": ".py",
   "mimetype": "text/x-python",
   "name": "python",
   "nbconvert_exporter": "python",
   "pygments_lexer": "ipython2",
   "version": "2.7.6"
  }
 },
 "nbformat": 4,
 "nbformat_minor": 0
}