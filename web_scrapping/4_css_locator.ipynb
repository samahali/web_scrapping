{
 "cells": [
  {
   "cell_type": "markdown",
   "metadata": {
    "collapsed": true,
    "pycharm": {
     "name": "#%% md\n"
    }
   },
   "source": [
    "CSS Locators"
   ]
  },
  {
   "cell_type": "markdown",
   "source": [
    "## Rosetta CSStone\n",
    "#### / replace by > (except first character)\n",
    "#### XPath: /html/body/div\n",
    "#### CSS Locator: html > body > div\n",
    "#### // replaced by a blank space (except first character)\n",
    "#### XPath: //div/span//p\n",
    "#### CSS Locator: div > span p\n",
    "#### [N] replaced by :nth-of-type(N)\n",
    "#### XPath: //div/p[2]\n",
    "#### CSS Locator: div > p:nth-of-type(2)"
   ],
   "metadata": {
    "collapsed": false,
    "pycharm": {
     "name": "#%% md\n"
    }
   }
  },
  {
   "cell_type": "code",
   "execution_count": 2,
   "outputs": [],
   "source": [
    "#XPATH\n",
    "xpath = '/html/body//div/p[2]'"
   ],
   "metadata": {
    "collapsed": false,
    "pycharm": {
     "name": "#%%\n"
    }
   }
  },
  {
   "cell_type": "code",
   "execution_count": 3,
   "outputs": [],
   "source": [
    "#CSS\n",
    "css = 'html > body div > p:nth-of-type(2)'"
   ],
   "metadata": {
    "collapsed": false,
    "pycharm": {
     "name": "#%%\n"
    }
   }
  },
  {
   "cell_type": "code",
   "execution_count": null,
   "outputs": [],
   "source": [
    "css_locator = 'div#uid > p.class1'"
   ],
   "metadata": {
    "collapsed": false,
    "pycharm": {
     "name": "#%%\n"
    }
   }
  }
 ],
 "metadata": {
  "kernelspec": {
   "display_name": "Python 3",
   "language": "python",
   "name": "python3"
  },
  "language_info": {
   "codemirror_mode": {
    "name": "ipython",
    "version": 2
   },
   "file_extension": ".py",
   "mimetype": "text/x-python",
   "name": "python",
   "nbconvert_exporter": "python",
   "pygments_lexer": "ipython2",
   "version": "2.7.6"
  }
 },
 "nbformat": 4,
 "nbformat_minor": 0
}