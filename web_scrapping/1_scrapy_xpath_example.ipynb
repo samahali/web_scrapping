{
 "cells": [
  {
   "cell_type": "code",
   "execution_count": 1,
   "metadata": {
    "collapsed": true
   },
   "outputs": [],
   "source": [
    "from scrapy import Selector"
   ]
  },
  {
   "cell_type": "code",
   "execution_count": 2,
   "outputs": [],
   "source": [
    "html = '''\n",
    "<html>\n",
    "    <body>\n",
    "        <div class=\"hello datacamp\">\n",
    "            <p>Hello World!</p>\n",
    "        </div>\n",
    "        <table>\n",
    "            <thead>\n",
    "                <tr>\n",
    "                    <td>First Name</td>\n",
    "                    <td>Second Name</td>\n",
    "                </tr>\n",
    "            </thead>\n",
    "            <tbody>\n",
    "                <tr>\n",
    "                    <td>Samah</td>\n",
    "                    <td>Ali</td>\n",
    "                </tr>\n",
    "            </tbody>\n",
    "        </table>\n",
    "        <div> Welcome EveryOne</div>\n",
    "        <p>Enjoy DataCamp!</p>\n",
    "        <div class='table'>\n",
    "            <table>\n",
    "                <thead>\n",
    "                    <tr>\n",
    "                        <td>Num</td>\n",
    "                        <td>Topic</td>\n",
    "                    </tr>\n",
    "                </thead>\n",
    "                <tbody>\n",
    "                    <tr>\n",
    "                        <td>1</td>\n",
    "                        <td>Data Camp</td>\n",
    "                    </tr>\n",
    "                    <tr>\n",
    "                        <td>2</td>\n",
    "                        <td>Web Scrapping</td>\n",
    "                    </tr>\n",
    "                </tbody>\n",
    "            </table>\n",
    "        </div>\n",
    "    </body>\n",
    "</html>\n",
    "'''"
   ],
   "metadata": {
    "collapsed": false,
    "pycharm": {
     "name": "#%%\n"
    }
   }
  },
  {
   "cell_type": "code",
   "execution_count": 25,
   "outputs": [],
   "source": [
    "# Single forward-slash / used to move forward one generation.\n",
    "# tag-names between slashes give direction to which element(s).\n",
    "# Brackets [] a er a tag name tell us which of the selected siblings to choose."
   ],
   "metadata": {
    "collapsed": false,
    "pycharm": {
     "name": "#%%\n"
    }
   }
  },
  {
   "cell_type": "code",
   "execution_count": 3,
   "outputs": [],
   "source": [
    "# The selector sel has selected the entire html document\n",
    "sel = Selector(text=html)"
   ],
   "metadata": {
    "collapsed": false,
    "pycharm": {
     "name": "#%%\n"
    }
   }
  },
  {
   "cell_type": "code",
   "execution_count": 4,
   "outputs": [],
   "source": [
    "# here we want to show second div inside body tag\n",
    "xpath = '/html/body/div[2]'"
   ],
   "metadata": {
    "collapsed": false,
    "pycharm": {
     "name": "#%%\n"
    }
   }
  },
  {
   "cell_type": "code",
   "execution_count": 5,
   "outputs": [
    {
     "data": {
      "text/plain": "[<Selector xpath='/html/body/div[2]' data='<div> Welcome EveryOne</div>'>]"
     },
     "execution_count": 5,
     "metadata": {},
     "output_type": "execute_result"
    }
   ],
   "source": [
    "# We can use the xpath call within a Selector to create new Selector s of specific pieces of the html code\n",
    "# The return is a SelectorList of Selector objects\n",
    "sel.xpath(xpath)"
   ],
   "metadata": {
    "collapsed": false,
    "pycharm": {
     "name": "#%%\n"
    }
   }
  },
  {
   "cell_type": "code",
   "execution_count": 6,
   "outputs": [
    {
     "data": {
      "text/plain": "[<Selector xpath='//p' data='<p>Hello World!</p>'>,\n <Selector xpath='//p' data='<p>Enjoy DataCamp!</p>'>]"
     },
     "execution_count": 6,
     "metadata": {},
     "output_type": "execute_result"
    }
   ],
   "source": [
    "# // show all selector of tag we write after it in html we don't care where its position is\n",
    "# here we will need to show all p tag in selector\n",
    "sel.xpath('//p')"
   ],
   "metadata": {
    "collapsed": false,
    "pycharm": {
     "name": "#%%\n"
    }
   }
  },
  {
   "cell_type": "code",
   "execution_count": 7,
   "outputs": [
    {
     "data": {
      "text/plain": "[<Selector xpath='//table' data='<table>\\n            <thead>\\n         ...'>,\n <Selector xpath='//table' data='<table>\\n                <thead>\\n     ...'>]"
     },
     "execution_count": 7,
     "metadata": {},
     "output_type": "execute_result"
    }
   ],
   "source": [
    "# Direct to all table elements within the entire HTML code:\n",
    "sel.xpath('//table')"
   ],
   "metadata": {
    "collapsed": false,
    "pycharm": {
     "name": "#%%\n"
    }
   }
  },
  {
   "cell_type": "code",
   "execution_count": 8,
   "outputs": [
    {
     "data": {
      "text/plain": "[<Selector xpath='/html/body/div//table' data='<table>\\n                <thead>\\n     ...'>]"
     },
     "execution_count": 8,
     "metadata": {},
     "output_type": "execute_result"
    }
   ],
   "source": [
    "# Direct to all table elements which are descendants of the div child of the body element:\n",
    "sel.xpath('/html/body/div//table')"
   ],
   "metadata": {
    "collapsed": false,
    "pycharm": {
     "name": "#%%\n"
    }
   }
  },
  {
   "cell_type": "code",
   "execution_count": 33,
   "outputs": [
    {
     "data": {
      "text/plain": "[<Selector xpath='/html/body/*' data='<div class=\"hello datacamp\">\\n        ...'>,\n <Selector xpath='/html/body/*' data='<table>\\n            <thead>\\n         ...'>,\n <Selector xpath='/html/body/*' data='<div> Welcome EveryOne</div>'>,\n <Selector xpath='/html/body/*' data='<p>Enjoy DataCamp!</p>'>,\n <Selector xpath='/html/body/*' data='<div class=\"table\">\\n            <tabl...'>]"
     },
     "execution_count": 33,
     "metadata": {},
     "output_type": "execute_result"
    }
   ],
   "source": [
    "# /* show all selector inside tag u add before /* in our example here /html/body/* we need to show all tag inside body\n",
    "sel.xpath('/html/body/*')"
   ],
   "metadata": {
    "collapsed": false,
    "pycharm": {
     "name": "#%%\n"
    }
   }
  },
  {
   "cell_type": "code",
   "execution_count": 9,
   "outputs": [
    {
     "data": {
      "text/plain": "[<Selector xpath='//div/*' data='<p>Hello World!</p>'>,\n <Selector xpath='//div/*' data='<table>\\n                <thead>\\n     ...'>]"
     },
     "execution_count": 9,
     "metadata": {},
     "output_type": "execute_result"
    }
   ],
   "source": [
    "# another example here we will show all tags inside tag div\n",
    "sel.xpath('//div/*')"
   ],
   "metadata": {
    "collapsed": false,
    "pycharm": {
     "name": "#%%\n"
    }
   }
  },
  {
   "cell_type": "code",
   "execution_count": null,
   "outputs": [],
   "source": [],
   "metadata": {
    "collapsed": false,
    "pycharm": {
     "name": "#%%\n"
    }
   }
  }
 ],
 "metadata": {
  "kernelspec": {
   "display_name": "Python 3",
   "language": "python",
   "name": "python3"
  },
  "language_info": {
   "codemirror_mode": {
    "name": "ipython",
    "version": 2
   },
   "file_extension": ".py",
   "mimetype": "text/x-python",
   "name": "python",
   "nbconvert_exporter": "python",
   "pygments_lexer": "ipython2",
   "version": "2.7.6"
  }
 },
 "nbformat": 4,
 "nbformat_minor": 0
}